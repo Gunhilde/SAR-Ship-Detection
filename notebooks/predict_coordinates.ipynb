{
 "cells": [
  {
   "cell_type": "code",
   "execution_count": 1,
   "metadata": {},
   "outputs": [],
   "source": [
    "import os\n",
    "import glob\n",
    "import zipfile\n",
    "import functools\n",
    "\n",
    "import rasterio\n",
    "import numpy as np\n",
    "import matplotlib.pyplot as plt\n",
    "import matplotlib as mpl\n",
    "mpl.rcParams['axes.grid'] = False\n",
    "mpl.rcParams['figure.figsize'] = (12,12)\n",
    "\n",
    "from sklearn.model_selection import train_test_split\n",
    "import matplotlib.image as mpimg\n",
    "import pandas as pd\n",
    "from PIL import Image\n",
    "\n",
    "import tensorflow as tf\n",
    "import tensorflow.contrib as tfcontrib\n",
    "from tensorflow.python.keras import layers\n",
    "from tensorflow.python.keras import losses\n",
    "from tensorflow.python.keras import models\n",
    "from tensorflow.python.keras import backend as K\n",
    "\n",
    "config = tf.ConfigProto(log_device_placement=True)\n",
    "config.gpu_options.allow_growth = True\n",
    "\n",
    "session = tf.Session(config=config)"
   ]
  },
  {
   "cell_type": "code",
   "execution_count": 2,
   "metadata": {},
   "outputs": [],
   "source": [
    "def dice_coeff(y_true, y_pred):\n",
    "    smooth = 1.\n",
    "    # Flatten\n",
    "    y_true_f = tf.reshape(y_true, [-1])\n",
    "    y_pred_f = tf.reshape(y_pred, [-1])\n",
    "    intersection = tf.reduce_sum(y_true_f * y_pred_f)\n",
    "    score = (2. * intersection + smooth) / (tf.reduce_sum(y_true_f) + tf.reduce_sum(y_pred_f) + smooth)\n",
    "    return score"
   ]
  },
  {
   "cell_type": "code",
   "execution_count": 3,
   "metadata": {},
   "outputs": [],
   "source": [
    "def dice_loss(y_true, y_pred):\n",
    "    loss = 1 - dice_coeff(y_true, y_pred)\n",
    "    return loss"
   ]
  },
  {
   "cell_type": "code",
   "execution_count": 4,
   "metadata": {},
   "outputs": [],
   "source": [
    "def bce_dice_loss(y_true, y_pred):\n",
    "    loss = losses.binary_crossentropy(y_true, y_pred) + dice_loss(y_true, y_pred)\n",
    "    return loss"
   ]
  },
  {
   "cell_type": "code",
   "execution_count": 5,
   "metadata": {},
   "outputs": [],
   "source": [
    "save_model_path = '/home/mdj/Development/SAR-Ship-Detection/weights.hdf5'\n",
    "\n",
    "# Alternatively, load the weights directly: model.load_weights(save_model_path)\n",
    "model = models.load_model(save_model_path, custom_objects={'bce_dice_loss': bce_dice_loss,\n",
    "                                                           'dice_loss': dice_loss})"
   ]
  },
  {
   "cell_type": "code",
   "execution_count": 6,
   "metadata": {},
   "outputs": [],
   "source": [
    "ais_filename = '/home/mdj/Datasets/ais/aisdk_20181006.csv'\n",
    "sar_filename= '/home/mdj/S1A_IW_SLC__1SDV_20181006T054021_20181006T054048_024011_029F96_1702_Orb_Cal_deb_ML_Spk_TC.tif'\n",
    "\n",
    "img_win = (256, 256)\n"
   ]
  },
  {
   "cell_type": "code",
   "execution_count": 7,
   "metadata": {},
   "outputs": [
    {
     "name": "stdout",
     "output_type": "stream",
     "text": [
      "36467 15315\n",
      "+init=epsg:4326\n",
      "| 0.00, 0.00, 7.32|\n",
      "| 0.00,-0.00, 58.44|\n",
      "| 0.00, 0.00, 1.00|\n",
      "1\n",
      "(1,)\n"
     ]
    }
   ],
   "source": [
    "with rasterio.open(sar_filename) as sar_ds:\n",
    "    print(sar_ds.width, sar_ds.height)\n",
    "    print(sar_ds.crs)\n",
    "    print(sar_ds.transform)\n",
    "    print(sar_ds.count)\n",
    "    print(sar_ds.indexes)\n",
    "    band1 = sar_ds.read(1)"
   ]
  },
  {
   "cell_type": "code",
   "execution_count": 122,
   "metadata": {},
   "outputs": [],
   "source": [
    "def extract_image_at_coord(ds,lon,lat,width,height):\n",
    "    centoid = ds.index(lon, lat)\n",
    "    dx, dy = ds.res  \n",
    "    snip = band1[centoid[0]-int(height//2):centoid[0]+int(height//2), centoid[1]-int(width//2):centoid[1]+int(width//2)]\n",
    "    return snip, [centoid[0]-int(height//2),centoid[0]+int(height//2), centoid[1]-int(width//2), centoid[1]+int(width//2)]\n",
    "\n",
    "def extract_image_at_px(ds,x,y,width,height):\n",
    "    centoid = (x,y)\n",
    "    dx, dy = ds.res  \n",
    "    snip = band1[centoid[0]-int(height//2):centoid[0]+int(height//2), centoid[1]-int(width//2):centoid[1]+int(width//2)]\n",
    "    return snip, [centoid[0]-int(height//2),centoid[0]+int(height//2), centoid[1]-int(width//2), centoid[1]+int(width//2)]\n",
    "\n"
   ]
  },
  {
   "cell_type": "code",
   "execution_count": 112,
   "metadata": {},
   "outputs": [
    {
     "name": "stdout",
     "output_type": "stream",
     "text": [
      "[5932, 6188, 11753, 12009]\n"
     ]
    },
    {
     "data": {
      "text/plain": [
       "<matplotlib.image.AxesImage at 0x7fa9040a0588>"
      ]
     },
     "execution_count": 112,
     "metadata": {},
     "output_type": "execute_result"
    },
    {
     "data": {
      "image/png": "[encoded data removed]",
      "text/plain": [
       "<Figure size 432x288 with 1 Axes>"
      ]
     },
     "metadata": {},
     "output_type": "display_data"
    }
   ],
   "source": [
    "pos = (8.89347, 57.63367)\n",
    "# pos_time = datetime.datetime.strptime(\"2018-10-06 05:40:31:251 AM\", '%Y-%m-%d %I:%M:%S:%f %p')\n",
    "# print(pos_time)\n",
    "img, coords = extract_image_at_coord(sar_ds, pos[0], pos[1], 256, 256)\n",
    "print(coords)\n",
    "plt.imshow(img)"
   ]
  },
  {
   "cell_type": "code",
   "execution_count": 119,
   "metadata": {},
   "outputs": [
    {
     "data": {
      "image/png": "[encoded data removed]",
      "text/plain": [
       "<Figure size 432x288 with 1 Axes>"
      ]
     },
     "metadata": {},
     "output_type": "display_data"
    }
   ],
   "source": [
    "im2arr =  np.expand_dims(np.transpose(np.array([img,img,img])), axis=0)\n",
    "# print(im2arr.shape)\n",
    "# Predicting the Test set results\n",
    "y_pred = model.predict(im2arr)[0]\n",
    "ytst = (256/np.max(np.transpose(y_pred[:,:,0]))*np.transpose(y_pred[:,:,0]))\n",
    "plt.imshow(np.transpose(y_pred[:,:,0]))\n",
    "imgc = plt.imshow(ytst,cmap='gray')\n",
    "# print(imgc.get_array().shape)\n",
    "# np.histogram(ytst)"
   ]
  },
  {
   "cell_type": "code",
   "execution_count": 120,
   "metadata": {},
   "outputs": [],
   "source": [
    "def latlon(ds, coord_base, pos):\n",
    "    x = coord_base[0] + pos[0]\n",
    "    y = coord_base[2] + pos[1]\n",
    "    return ds.xy(x,y)"
   ]
  },
  {
   "cell_type": "code",
   "execution_count": 121,
   "metadata": {},
   "outputs": [
    {
     "data": {
      "text/plain": [
       "(8.89329917449193, 57.633611068851145)"
      ]
     },
     "execution_count": 121,
     "metadata": {},
     "output_type": "execute_result"
    }
   ],
   "source": [
    "pimg = ytst\n",
    "\n",
    "# plt.hist(pimg.ravel(),256,[0.1,256]); plt.show()\n",
    "\n",
    "indices = np.where(ytst > 250)\n",
    "# print(np.mean(indices[0]), np.mean(indices[1][0]))\n",
    "\n",
    "\n",
    "# print(indices)\n",
    "# np.max(pimg)\n",
    "latlon(sar_ds, coords, (np.mean(indices[0]), np.mean(indices[1][0])))"
   ]
  },
  {
   "cell_type": "code",
   "execution_count": 133,
   "metadata": {},
   "outputs": [],
   "source": [
    "coordinates = []\n",
    "for x in range(256//2, sar_ds.shape[0], 256):\n",
    "    for y in range(256//2, sar_ds.shape[1], 256):\n",
    "        chip, coords = extract_image_at_px(sar_ds, x, y, 256, 256)\n",
    "        \n",
    "        if chip.shape != (256, 256):\n",
    "            continue\n",
    "            \n",
    "        im2arr =  np.expand_dims(np.transpose(np.array([chip,chip,chip])), axis=0)\n",
    "        y_pred = model.predict(im2arr)[0]\n",
    "        ytst = (256/np.max(np.transpose(y_pred[:,:,0]))*np.transpose(y_pred[:,:,0]))\n",
    "#         plt.imshow(np.transpose(y_pred[:,:,0]))\n",
    "#         imgc = plt.imshow(ytst,cmap='gray')\n",
    "        indices = np.where(ytst > 250)\n",
    "        # print(np.mean(indices[0]), np.mean(indices[1][0]))\n",
    "        if np.mean(indices[0]) > 0 and np.mean(indices[1]) > 0 and 254 not in indices[0] and 254 not in indices[1] and 1 not in indices[0] and 1 not in indices[1]:\n",
    "#             print(indices)\n",
    "            coordinates.append(latlon(sar_ds, coords, (np.mean(indices[0]), np.mean(indices[1][0]))))\n",
    "        "
   ]
  },
  {
   "cell_type": "code",
   "execution_count": 134,
   "metadata": {},
   "outputs": [],
   "source": [
    "with open(\"coord_predicted.csv\", 'w') as fo:\n",
    "    fo.write(\"lon,lat\\n\")\n",
    "    for coord in coordinates:\n",
    "        fo.write(\"%f,%f\\n\" % coord)"
   ]
  },
  {
   "cell_type": "code",
   "execution_count": null,
   "metadata": {},
   "outputs": [],
   "source": []
  }
 ],
 "metadata": {
  "kernelspec": {
   "display_name": "Python 3",
   "language": "python",
   "name": "python3"
  },
  "language_info": {
   "codemirror_mode": {
    "name": "ipython",
    "version": 3
   },
   "file_extension": ".py",
   "mimetype": "text/x-python",
   "name": "python",
   "nbconvert_exporter": "python",
   "pygments_lexer": "ipython3",
   "version": "3.6.6"
  }
 },
 "nbformat": 4,
 "nbformat_minor": 2
}
